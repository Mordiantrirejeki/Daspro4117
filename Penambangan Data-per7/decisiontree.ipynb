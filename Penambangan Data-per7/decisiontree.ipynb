{
 "cells": [
  {
   "cell_type": "code",
   "execution_count": null,
   "metadata": {
    "vscode": {
     "languageId": "plaintext"
    }
   },
   "outputs": [],
   "source": [
    "from sklearn.tree import DecisionTreeClassifier\n",
    "from sklearn import datasets\n",
    "import matplotlib.pyplot as plt\n",
    "import numpy as np\n",
    "import pandas as pd\n",
    "import pydotplus\n",
    "from sklearn import tree\n",
    "from IPython.display import Image"
   ]
  },
  {
   "cell_type": "code",
   "execution_count": null,
   "metadata": {
    "vscode": {
     "languageId": "plaintext"
    }
   },
   "outputs": [],
   "source": [
    "# **1. Dataset Iris**\n",
    "iris = datasets.load_iris()\n",
    "features = iris['data']\n",
    "target = iris['target']\n",
    "\n",
    "# Membuat dan melatih Decision Tree Classifier\n",
    "decisiontree = DecisionTreeClassifier(\n",
    "    random_state=0,\n",
    "    max_depth=None,\n",
    "    min_samples_split=2,\n",
    "    min_samples_leaf=1,\n",
    "    min_weight_fraction_leaf=0,\n",
    "    max_leaf_nodes=None,\n",
    "    min_impurity_decrease=0,\n",
    ")\n",
    "model = decisiontree.fit(features, target)\n",
    "\n",
    "# Prediksi dan probabilitas prediksi untuk sebuah observasi\n",
    "observation = [[5, 4, 3, 2]]\n",
    "print(\"Prediksi: \", model.predict(observation))\n",
    "print(\"Probabilitas: \", model.predict_proba(observation))"
   ]
  },
  {
   "cell_type": "code",
   "execution_count": null,
   "metadata": {
    "vscode": {
     "languageId": "plaintext"
    }
   },
   "outputs": [],
   "source": [
    "\n",
    "# **2. Visualisasi Pohon Keputusan**\n",
    "# Membuat representasi DOT dari pohon keputusan\n",
    "dot_data = tree.export_graphviz(\n",
    "    decisiontree,\n",
    "    out_file=None,\n",
    "    feature_names=iris['feature_names'],\n",
    "    class_names=iris['target_names'],\n",
    "    filled=True,\n",
    "    rounded=True,\n",
    "    special_characters=True,\n",
    ")\n",
    "\n",
    "# Membuat grafik dari data DOT\n",
    "graph = pydotplus.graph_from_dot_data(dot_data)\n",
    "\n",
    "# Menampilkan gambar di Jupyter Notebook (opsional jika menggunakan Jupyter)\n",
    "Image(graph.create_png())\n",
    "\n",
    "# Menyimpan gambar dalam format PNG ke direktori tertentu\n",
    "graph.write_png(r'E:\\Folder kuliah\\smstr5\\Penambangan data\\P7\\iris_graph.png')\n"
   ]
  },
  {
   "cell_type": "code",
   "execution_count": null,
   "metadata": {
    "vscode": {
     "languageId": "plaintext"
    }
   },
   "outputs": [],
   "source": [
    "# **3. Dataset Iris dalam CSV**\n",
    "# Membaca dataset dari file CSV ke dalam DataFrame\n",
    "irisDataset = pd.read_csv(\n",
    "    'E:\\Folder kuliah\\smstr5\\Penambangan data\\P7\\datasetIris.csv',\n",
    "    delimiter=';',  # Menggunakan delimiter titik koma\n",
    "    header=0  # Baris pertama sebagai header\n",
    ")\n",
    "\n",
    "\n",
    "# Mengubah kelas (kolom \"Species\") dari string ke integer\n",
    "irisDataset[\"Species\"] = pd.factorize(irisDataset[\"Species\"])[0]\n",
    "\n",
    "# Menghapus kolom \"Id\" yang tidak relevan untuk analisis\n",
    "irisDataset = irisDataset.drop(labels=\"Id\", axis=1)\n",
    "\n",
    "# Mengubah DataFrame menjadi array NumPy\n",
    "irisDataset = irisDataset.to_numpy()\n",
    "\n",
    "# Membagi dataset: 40 baris data untuk training, dan 20 baris untuk testing\n",
    "dataTraining = np.concatenate((irisDataset[0:40, :], irisDataset[50:90, :]), axis=0)\n",
    "dataTesting = np.concatenate((irisDataset[40:50, :], irisDataset[90:100, :]), axis=0)\n",
    "\n",
    "# Memisahkan dataset menjadi input (fitur) dan label\n",
    "inputTraining = dataTraining[:, 0:4]\n",
    "labelTraining = dataTraining[:, 4]\n",
    "inputTesting = dataTesting[:, 0:4]\n",
    "labelTesting = dataTesting[:, 4]"
   ]
  },
  {
   "cell_type": "code",
   "execution_count": null,
   "metadata": {
    "vscode": {
     "languageId": "plaintext"
    }
   },
   "outputs": [],
   "source": []
  },
  {
   "cell_type": "code",
   "execution_count": null,
   "metadata": {
    "vscode": {
     "languageId": "plaintext"
    }
   },
   "outputs": [],
   "source": []
  }
 ],
 "metadata": {
  "language_info": {
   "name": "python"
  }
 },
 "nbformat": 4,
 "nbformat_minor": 2
}
